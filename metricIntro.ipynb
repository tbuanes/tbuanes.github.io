{
 "cells": [
  {
   "cell_type": "markdown",
   "metadata": {},
   "source": [
    "---\n",
    "title: Metrics\n",
    "---"
   ]
  },
  {
   "cell_type": "markdown",
   "metadata": {},
   "source": [
    "To quantify how well a ML model performs, and to compare it to other models, we need a _quantitative metric_. Many such metrics are possible, but not all are equally good - and more importantly a good metric for one problem isn't necessarily a good metric for the next problem. In order to select an appropriate metric for a specific problem, you would both need to know the characteristics of different possible metrics as well as details about the problem you are working on."
   ]
  }
 ],
 "metadata": {
  "language_info": {
   "name": "python"
  }
 },
 "nbformat": 4,
 "nbformat_minor": 2
}
